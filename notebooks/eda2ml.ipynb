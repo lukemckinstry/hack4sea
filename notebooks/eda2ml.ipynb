{
 "cells": [
  {
   "cell_type": "code",
   "execution_count": 1,
   "metadata": {},
   "outputs": [],
   "source": [
    "%matplotlib inline\n",
    "import numpy as np\n",
    "import matplotlib.pyplot as plt\n",
    "from mpl_toolkits.basemap import Basemap\n",
    "import pandas as pd\n",
    "from geopandas import GeoDataFrame\n",
    "from shapely.geometry import Point\n",
    "import fiona\n",
    "from matplotlib import collections  as mc"
   ]
  },
  {
   "cell_type": "code",
   "execution_count": 9,
   "metadata": {},
   "outputs": [
    {
     "data": {
      "text/html": [
       "<div>\n",
       "<style scoped>\n",
       "    .dataframe tbody tr th:only-of-type {\n",
       "        vertical-align: middle;\n",
       "    }\n",
       "\n",
       "    .dataframe tbody tr th {\n",
       "        vertical-align: top;\n",
       "    }\n",
       "\n",
       "    .dataframe thead th {\n",
       "        text-align: right;\n",
       "    }\n",
       "</style>\n",
       "<table border=\"1\" class=\"dataframe\">\n",
       "  <thead>\n",
       "    <tr style=\"text-align: right;\">\n",
       "      <th></th>\n",
       "      <th>Unnamed: 0</th>\n",
       "      <th>OPERATION_ID</th>\n",
       "      <th>ORGANISM_ID</th>\n",
       "      <th>CRUISE_ID</th>\n",
       "      <th>length</th>\n",
       "      <th>sex</th>\n",
       "      <th>maturity</th>\n",
       "      <th>OPERATION_STATUS</th>\n",
       "      <th>SITE_NAME</th>\n",
       "      <th>START_TIME</th>\n",
       "      <th>...</th>\n",
       "      <th>elon</th>\n",
       "      <th>elat</th>\n",
       "      <th>pdate</th>\n",
       "      <th>month</th>\n",
       "      <th>dist</th>\n",
       "      <th>zone</th>\n",
       "      <th>winter</th>\n",
       "      <th>sst</th>\n",
       "      <th>bth</th>\n",
       "      <th>chl</th>\n",
       "    </tr>\n",
       "  </thead>\n",
       "  <tbody>\n",
       "    <tr>\n",
       "      <th>0</th>\n",
       "      <td>0</td>\n",
       "      <td>33</td>\n",
       "      <td>5688</td>\n",
       "      <td>201780</td>\n",
       "      <td>67.0</td>\n",
       "      <td>M</td>\n",
       "      <td>Resting</td>\n",
       "      <td>Representative</td>\n",
       "      <td>11-6 APR</td>\n",
       "      <td>4/17/2017 6:39:56 PM</td>\n",
       "      <td>...</td>\n",
       "      <td>-70.11847</td>\n",
       "      <td>42.42233</td>\n",
       "      <td>2017-04-17 18:39:56</td>\n",
       "      <td>4.0</td>\n",
       "      <td>0.018401</td>\n",
       "      <td>4.0</td>\n",
       "      <td>0.0</td>\n",
       "      <td>7.952941</td>\n",
       "      <td>-78.0</td>\n",
       "      <td>4.216965</td>\n",
       "    </tr>\n",
       "    <tr>\n",
       "      <th>1</th>\n",
       "      <td>1</td>\n",
       "      <td>89</td>\n",
       "      <td>18000</td>\n",
       "      <td>201684</td>\n",
       "      <td>73.5</td>\n",
       "      <td>F</td>\n",
       "      <td>Resting</td>\n",
       "      <td>Representative</td>\n",
       "      <td>8-32 NOV</td>\n",
       "      <td>11/25/2016 12:39:29 PM</td>\n",
       "      <td>...</td>\n",
       "      <td>-70.20686</td>\n",
       "      <td>42.21152</td>\n",
       "      <td>2016-11-25 12:39:29</td>\n",
       "      <td>11.0</td>\n",
       "      <td>0.015672</td>\n",
       "      <td>4.0</td>\n",
       "      <td>1.0</td>\n",
       "      <td>15.325490</td>\n",
       "      <td>-34.0</td>\n",
       "      <td>3.522695</td>\n",
       "    </tr>\n",
       "    <tr>\n",
       "      <th>2</th>\n",
       "      <td>2</td>\n",
       "      <td>33</td>\n",
       "      <td>5691</td>\n",
       "      <td>201780</td>\n",
       "      <td>52.0</td>\n",
       "      <td>M</td>\n",
       "      <td>Resting</td>\n",
       "      <td>Representative</td>\n",
       "      <td>11-6 APR</td>\n",
       "      <td>4/17/2017 6:39:56 PM</td>\n",
       "      <td>...</td>\n",
       "      <td>-70.11847</td>\n",
       "      <td>42.42233</td>\n",
       "      <td>2017-04-17 18:39:56</td>\n",
       "      <td>4.0</td>\n",
       "      <td>0.018401</td>\n",
       "      <td>4.0</td>\n",
       "      <td>0.0</td>\n",
       "      <td>7.952941</td>\n",
       "      <td>-78.0</td>\n",
       "      <td>4.216965</td>\n",
       "    </tr>\n",
       "    <tr>\n",
       "      <th>3</th>\n",
       "      <td>3</td>\n",
       "      <td>86</td>\n",
       "      <td>15309</td>\n",
       "      <td>201781</td>\n",
       "      <td>64.9</td>\n",
       "      <td>F</td>\n",
       "      <td>Developing</td>\n",
       "      <td>Representative</td>\n",
       "      <td>5-31 DEC</td>\n",
       "      <td>12/7/2017 3:42:34 PM</td>\n",
       "      <td>...</td>\n",
       "      <td>-70.18191</td>\n",
       "      <td>42.43383</td>\n",
       "      <td>2017-12-07 15:42:34</td>\n",
       "      <td>12.0</td>\n",
       "      <td>0.017537</td>\n",
       "      <td>4.0</td>\n",
       "      <td>1.0</td>\n",
       "      <td>10.901961</td>\n",
       "      <td>-73.0</td>\n",
       "      <td>1.154782</td>\n",
       "    </tr>\n",
       "    <tr>\n",
       "      <th>4</th>\n",
       "      <td>4</td>\n",
       "      <td>108</td>\n",
       "      <td>23616</td>\n",
       "      <td>201684</td>\n",
       "      <td>71.0</td>\n",
       "      <td>F</td>\n",
       "      <td>Developing</td>\n",
       "      <td>Representative</td>\n",
       "      <td>8-32 DEC</td>\n",
       "      <td>12/7/2016 4:59:07 PM</td>\n",
       "      <td>...</td>\n",
       "      <td>-70.28620</td>\n",
       "      <td>42.18056</td>\n",
       "      <td>2016-12-07 16:59:07</td>\n",
       "      <td>12.0</td>\n",
       "      <td>0.015163</td>\n",
       "      <td>4.0</td>\n",
       "      <td>1.0</td>\n",
       "      <td>12.192157</td>\n",
       "      <td>-24.0</td>\n",
       "      <td>3.050528</td>\n",
       "    </tr>\n",
       "  </tbody>\n",
       "</table>\n",
       "<p>5 rows × 27 columns</p>\n",
       "</div>"
      ],
      "text/plain": [
       "   Unnamed: 0  OPERATION_ID  ORGANISM_ID  CRUISE_ID  length sex    maturity  \\\n",
       "0           0            33         5688     201780    67.0   M     Resting   \n",
       "1           1            89        18000     201684    73.5   F     Resting   \n",
       "2           2            33         5691     201780    52.0   M     Resting   \n",
       "3           3            86        15309     201781    64.9   F  Developing   \n",
       "4           4           108        23616     201684    71.0   F  Developing   \n",
       "\n",
       "  OPERATION_STATUS SITE_NAME              START_TIME    ...         elon  \\\n",
       "0   Representative  11-6 APR    4/17/2017 6:39:56 PM    ...    -70.11847   \n",
       "1   Representative  8-32 NOV  11/25/2016 12:39:29 PM    ...    -70.20686   \n",
       "2   Representative  11-6 APR    4/17/2017 6:39:56 PM    ...    -70.11847   \n",
       "3   Representative  5-31 DEC    12/7/2017 3:42:34 PM    ...    -70.18191   \n",
       "4   Representative  8-32 DEC    12/7/2016 4:59:07 PM    ...    -70.28620   \n",
       "\n",
       "       elat                pdate month      dist  zone  winter        sst  \\\n",
       "0  42.42233  2017-04-17 18:39:56   4.0  0.018401   4.0     0.0   7.952941   \n",
       "1  42.21152  2016-11-25 12:39:29  11.0  0.015672   4.0     1.0  15.325490   \n",
       "2  42.42233  2017-04-17 18:39:56   4.0  0.018401   4.0     0.0   7.952941   \n",
       "3  42.43383  2017-12-07 15:42:34  12.0  0.017537   4.0     1.0  10.901961   \n",
       "4  42.18056  2016-12-07 16:59:07  12.0  0.015163   4.0     1.0  12.192157   \n",
       "\n",
       "    bth       chl  \n",
       "0 -78.0  4.216965  \n",
       "1 -34.0  3.522695  \n",
       "2 -78.0  4.216965  \n",
       "3 -73.0  1.154782  \n",
       "4 -24.0  3.050528  \n",
       "\n",
       "[5 rows x 27 columns]"
      ]
     },
     "execution_count": 9,
     "metadata": {},
     "output_type": "execute_result"
    }
   ],
   "source": [
    "df = pd.read_csv('../data/processed/fishtow-eda.csv', index_col = False)\n",
    "df.head()"
   ]
  },
  {
   "cell_type": "code",
   "execution_count": 21,
   "metadata": {
    "scrolled": true
   },
   "outputs": [
    {
     "data": {
      "image/png": "[encoded data removed]",
      "text/plain": [
       "<Figure size 432x288 with 1 Axes>"
      ]
     },
     "metadata": {
      "needs_background": "light"
     },
     "output_type": "display_data"
    }
   ],
   "source": [
    "plt.hist( df['sst'], 20, normed=1, facecolor='green', alpha=0.75)\n",
    "plt.title('Sea Surface Temp Distribution (C)')\n",
    "plt.savefig( '../data/raw/sst-dist.png' )\n",
    "plt.show()"
   ]
  },
  {
   "cell_type": "code",
   "execution_count": 22,
   "metadata": {
    "scrolled": true
   },
   "outputs": [
    {
     "data": {
      "image/png": "[encoded data removed]",
      "text/plain": [
       "<Figure size 432x288 with 1 Axes>"
      ]
     },
     "metadata": {
      "needs_background": "light"
     },
     "output_type": "display_data"
    }
   ],
   "source": [
    "plt.hist( df['chl'].dropna(), 25, normed=1, facecolor='green', alpha=0.75)\n",
    "plt.title('Chlorophyll Distribution (mg/square meter)')\n",
    "plt.savefig( '../data/raw/chl-dist.png' )\n",
    "plt.show()"
   ]
  },
  {
   "cell_type": "code",
   "execution_count": 26,
   "metadata": {},
   "outputs": [
    {
     "data": {
      "text/plain": [
       "(2.8602126971182784, 2.552263545434014)"
      ]
     },
     "execution_count": 26,
     "metadata": {},
     "output_type": "execute_result"
    }
   ],
   "source": [
    "df[df['winter']==1]['chl'].mean(), df[df['winter']==0]['chl'].mean()"
   ]
  },
  {
   "cell_type": "code",
   "execution_count": 24,
   "metadata": {},
   "outputs": [
    {
     "data": {
      "image/png": "[encoded data removed]",
      "text/plain": [
       "<Figure size 432x288 with 1 Axes>"
      ]
     },
     "metadata": {
      "needs_background": "light"
     },
     "output_type": "display_data"
    }
   ],
   "source": [
    "plt.hist( df['length'].dropna(), 30, normed=1, facecolor='green', alpha=0.75)\n",
    "plt.title('Cod Length Distribution (cm)')\n",
    "plt.savefig( '../data/raw/cod-length-dist.png' )\n",
    "plt.show()"
   ]
  },
  {
   "cell_type": "markdown",
   "metadata": {},
   "source": [
    "### map plots for eda"
   ]
  },
  {
   "cell_type": "code",
   "execution_count": 12,
   "metadata": {},
   "outputs": [
    {
     "data": {
      "text/plain": [
       "[-70.45957, 41.53001, -69.30633, 43.43869]"
      ]
     },
     "execution_count": 12,
     "metadata": {},
     "output_type": "execute_result"
    }
   ],
   "source": [
    "lats = [ i for i in df['slat'] ]\n",
    "lons = [ i for i in df['slon'] ]\n",
    "\n",
    "llcrnrlon = min(lons)\n",
    "llcrnrlat = min(lats)\n",
    "urcrnrlon = max(lons)\n",
    "urcrnrlat = max(lats)\n",
    "box = [ llcrnrlon, llcrnrlat, urcrnrlon, urcrnrlat ]\n",
    "box"
   ]
  },
  {
   "cell_type": "code",
   "execution_count": 13,
   "metadata": {},
   "outputs": [
    {
     "data": {
      "image/png": "[encoded data removed]",
      "text/plain": [
       "<Figure size 576x576 with 1 Axes>"
      ]
     },
     "metadata": {},
     "output_type": "display_data"
    }
   ],
   "source": [
    "##plot tows with mature fish (Ripe, Ripe & Running) (fish from same tow will be plotted over)\n",
    "\n",
    "def get_arc( row ):\n",
    "    return ( \n",
    "        row['slon'], row['slat'], row['elon'], row['elat'] )\n",
    "\n",
    "fig = plt.figure(figsize=(8, 8))\n",
    "m = Basemap(projection='cass', resolution='i', llcrnrlon=box[0], llcrnrlat=box[1],\n",
    "            urcrnrlon=box[2], urcrnrlat=box[3], \n",
    "            width=8E6, height=8E6, \n",
    "            lat_0=43.260511, lon_0=-68.299058,)  #43.260511, -68.299058\n",
    "m.bluemarble()\n",
    "\n",
    "for index, row in df.iterrows():\n",
    "    try:\n",
    "        arc = get_arc(row)\n",
    "        \n",
    "        if row['maturity'] == \"Ripe\" or row['maturity'] == \"Ripe & Running\":\n",
    "            m.drawgreatcircle(arc[0],arc[1],arc[2],arc[3],linewidth=2,color='g')\n",
    "    except:\n",
    "        pass\n",
    "plt.title('Tow Routes')\n",
    "plt.savefig( '../data/raw/Tow_Routes_maturefish.png' )\n",
    "plt.show()"
   ]
  },
  {
   "cell_type": "code",
   "execution_count": 14,
   "metadata": {},
   "outputs": [
    {
     "data": {
      "image/png": "[encoded data removed]",
      "text/plain": [
       "<Figure size 576x576 with 1 Axes>"
      ]
     },
     "metadata": {},
     "output_type": "display_data"
    }
   ],
   "source": [
    "fig = plt.figure(figsize=(8, 8))\n",
    "m = Basemap(projection='cass', resolution='i', llcrnrlon=box[0], llcrnrlat=box[1],\n",
    "            urcrnrlon=box[2], urcrnrlat=box[3], \n",
    "            width=8E6, height=8E6, \n",
    "            lat_0=43.260511, lon_0=-68.299058,)  #43.260511, -68.299058\n",
    "m.bluemarble()\n",
    "\n",
    "for index, row in df.iterrows():\n",
    "    try:\n",
    "        arc = get_arc(row)\n",
    "        \n",
    "        if row['maturity'] == \"Immature\":\n",
    "            m.drawgreatcircle(arc[0],arc[1],arc[2],arc[3],linewidth=2,color='r')\n",
    "    except:\n",
    "        pass\n",
    "plt.title('Tow Routes')\n",
    "plt.savefig( '../data/raw/Tow_Routes_immature.png' )\n",
    "plt.show()"
   ]
  },
  {
   "cell_type": "code",
   "execution_count": null,
   "metadata": {},
   "outputs": [],
   "source": []
  }
 ],
 "metadata": {
  "kernelspec": {
   "display_name": "Python 2",
   "language": "python",
   "name": "python2"
  },
  "language_info": {
   "codemirror_mode": {
    "name": "ipython",
    "version": 2
   },
   "file_extension": ".py",
   "mimetype": "text/x-python",
   "name": "python",
   "nbconvert_exporter": "python",
   "pygments_lexer": "ipython2",
   "version": "2.7.12"
  }
 },
 "nbformat": 4,
 "nbformat_minor": 2
}
