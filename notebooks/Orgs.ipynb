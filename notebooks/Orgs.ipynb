{
 "cells": [
  {
   "cell_type": "code",
   "execution_count": 1,
   "metadata": {},
   "outputs": [],
   "source": [
    "%matplotlib inline\n",
    "import numpy as np\n",
    "import matplotlib.pyplot as plt\n",
    "#from mpl_toolkits.basemap import Basemap\n",
    "import pandas as pd\n",
    "from geopandas import GeoDataFrame\n",
    "from shapely.geometry import Point\n",
    "import fiona\n",
    "from matplotlib import collections  as mc"
   ]
  },
  {
   "cell_type": "code",
   "execution_count": 2,
   "metadata": {},
   "outputs": [
    {
     "name": "stdout",
     "output_type": "stream",
     "text": [
      "(96830, 28540)\n",
      "125370\n"
     ]
    }
   ],
   "source": [
    "df1 = pd.read_csv('../data/raw/IBS2_First_2_Years/Organism_values.csv')\n",
    "df2 = pd.read_csv('../data/raw/y3/organism_values.csv')\n",
    "print(df1.size, df2.size)\n",
    "org_df = df1.append( df2, ignore_index=True )\n",
    "print( org_df.size )"
   ]
  },
  {
   "cell_type": "code",
   "execution_count": 3,
   "metadata": {
    "scrolled": true
   },
   "outputs": [
    {
     "data": {
      "text/html": [
       "<div>\n",
       "<style scoped>\n",
       "    .dataframe tbody tr th:only-of-type {\n",
       "        vertical-align: middle;\n",
       "    }\n",
       "\n",
       "    .dataframe tbody tr th {\n",
       "        vertical-align: top;\n",
       "    }\n",
       "\n",
       "    .dataframe thead th {\n",
       "        text-align: right;\n",
       "    }\n",
       "</style>\n",
       "<table border=\"1\" class=\"dataframe\">\n",
       "  <thead>\n",
       "    <tr style=\"text-align: right;\">\n",
       "      <th></th>\n",
       "      <th>CRUISE_ID</th>\n",
       "      <th>OPERATION_ID</th>\n",
       "      <th>ACTION_NAME</th>\n",
       "      <th>ORGANISM_ID</th>\n",
       "      <th>ORGANISM_ACTION_ID</th>\n",
       "      <th>SPECIES</th>\n",
       "      <th>SPECIES_GROUP_ID</th>\n",
       "      <th>PARAM</th>\n",
       "      <th>UNITS</th>\n",
       "      <th>VALUE</th>\n",
       "    </tr>\n",
       "  </thead>\n",
       "  <tbody>\n",
       "    <tr>\n",
       "      <th>0</th>\n",
       "      <td>201,680</td>\n",
       "      <td>3</td>\n",
       "      <td>Record GF Maturity</td>\n",
       "      <td>116</td>\n",
       "      <td>335</td>\n",
       "      <td>Gadus morhua (Atlantic cod)</td>\n",
       "      <td>7,999</td>\n",
       "      <td>Record GF Maturity</td>\n",
       "      <td>NaN</td>\n",
       "      <td>Immature</td>\n",
       "    </tr>\n",
       "    <tr>\n",
       "      <th>1</th>\n",
       "      <td>201,680</td>\n",
       "      <td>3</td>\n",
       "      <td>Record GF Maturity</td>\n",
       "      <td>117</td>\n",
       "      <td>335</td>\n",
       "      <td>Gadus morhua (Atlantic cod)</td>\n",
       "      <td>7,999</td>\n",
       "      <td>Record GF Maturity</td>\n",
       "      <td>NaN</td>\n",
       "      <td>Immature</td>\n",
       "    </tr>\n",
       "    <tr>\n",
       "      <th>2</th>\n",
       "      <td>201,680</td>\n",
       "      <td>3</td>\n",
       "      <td>Record GF Maturity</td>\n",
       "      <td>120</td>\n",
       "      <td>335</td>\n",
       "      <td>Gadus morhua (Atlantic cod)</td>\n",
       "      <td>7,999</td>\n",
       "      <td>Record GF Maturity</td>\n",
       "      <td>NaN</td>\n",
       "      <td>Immature</td>\n",
       "    </tr>\n",
       "    <tr>\n",
       "      <th>3</th>\n",
       "      <td>201,680</td>\n",
       "      <td>3</td>\n",
       "      <td>Record GF Maturity</td>\n",
       "      <td>121</td>\n",
       "      <td>335</td>\n",
       "      <td>Gadus morhua (Atlantic cod)</td>\n",
       "      <td>7,999</td>\n",
       "      <td>Record GF Maturity</td>\n",
       "      <td>NaN</td>\n",
       "      <td>Immature</td>\n",
       "    </tr>\n",
       "    <tr>\n",
       "      <th>4</th>\n",
       "      <td>201,680</td>\n",
       "      <td>3</td>\n",
       "      <td>Record Length cm</td>\n",
       "      <td>116</td>\n",
       "      <td>1,083</td>\n",
       "      <td>Gadus morhua (Atlantic cod)</td>\n",
       "      <td>7,999</td>\n",
       "      <td>Length</td>\n",
       "      <td>cm</td>\n",
       "      <td>37.5</td>\n",
       "    </tr>\n",
       "  </tbody>\n",
       "</table>\n",
       "</div>"
      ],
      "text/plain": [
       "  CRUISE_ID  OPERATION_ID         ACTION_NAME ORGANISM_ID ORGANISM_ACTION_ID  \\\n",
       "0   201,680             3  Record GF Maturity         116                335   \n",
       "1   201,680             3  Record GF Maturity         117                335   \n",
       "2   201,680             3  Record GF Maturity         120                335   \n",
       "3   201,680             3  Record GF Maturity         121                335   \n",
       "4   201,680             3    Record Length cm         116              1,083   \n",
       "\n",
       "                       SPECIES SPECIES_GROUP_ID               PARAM UNITS  \\\n",
       "0  Gadus morhua (Atlantic cod)            7,999  Record GF Maturity   NaN   \n",
       "1  Gadus morhua (Atlantic cod)            7,999  Record GF Maturity   NaN   \n",
       "2  Gadus morhua (Atlantic cod)            7,999  Record GF Maturity   NaN   \n",
       "3  Gadus morhua (Atlantic cod)            7,999  Record GF Maturity   NaN   \n",
       "4  Gadus morhua (Atlantic cod)            7,999              Length    cm   \n",
       "\n",
       "      VALUE  \n",
       "0  Immature  \n",
       "1  Immature  \n",
       "2  Immature  \n",
       "3  Immature  \n",
       "4      37.5  "
      ]
     },
     "execution_count": 3,
     "metadata": {},
     "output_type": "execute_result"
    }
   ],
   "source": [
    "org_df.head()"
   ]
  },
  {
   "cell_type": "code",
   "execution_count": 12,
   "metadata": {
    "scrolled": true
   },
   "outputs": [
    {
     "name": "stdout",
     "output_type": "stream",
     "text": [
      "('ORGANISM_ID ', set(['Resting', 'AB', 'Ripe', 'Developing', 'Unknown', 'F', 'M', 'Spent', 'NE', 'U', 'Immature', 'Ripe & Running']))\n"
     ]
    }
   ],
   "source": [
    "#print( \"CRUISE IDs \", set([i for i in org_df['CRUISE_ID']] ))\n",
    "#print( \"OPERATION IDs \", set([i for i in org_df['OPERATION_ID']] ))\n",
    "#print( \"ACTION NAME \", set([i for i in org_df['ACTION_NAME']] ))\n",
    "#print( \"ORGANISM_ID \", len(set([i for i in org_df['ORGANISM_ID']] )))\n",
    "\n",
    "print( \"ORGANISM_ID \", set([i for i in org_df['VALUE'] if not i.replace('.','').isdigit()  ] ))\n",
    "#org_df.head()"
   ]
  },
  {
   "cell_type": "code",
   "execution_count": null,
   "metadata": {},
   "outputs": [],
   "source": []
  }
 ],
 "metadata": {
  "kernelspec": {
   "display_name": "Python 3",
   "language": "python",
   "name": "python3"
  },
  "language_info": {
   "codemirror_mode": {
    "name": "ipython",
    "version": 3
   },
   "file_extension": ".py",
   "mimetype": "text/x-python",
   "name": "python",
   "nbconvert_exporter": "python",
   "pygments_lexer": "ipython3",
   "version": "3.5.2"
  }
 },
 "nbformat": 4,
 "nbformat_minor": 2
}
