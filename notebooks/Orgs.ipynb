{
 "cells": [
  {
   "cell_type": "code",
   "execution_count": 1,
   "metadata": {},
   "outputs": [],
   "source": [
    "%matplotlib inline\n",
    "import numpy as np\n",
    "import matplotlib.pyplot as plt\n",
    "#from mpl_toolkits.basemap import Basemap\n",
    "import pandas as pd\n",
    "from geopandas import GeoDataFrame\n",
    "from shapely.geometry import Point\n",
    "import fiona\n",
    "from matplotlib import collections  as mc"
   ]
  },
  {
   "cell_type": "code",
   "execution_count": 2,
   "metadata": {},
   "outputs": [
    {
     "name": "stdout",
     "output_type": "stream",
     "text": [
      "96830 28540\n",
      "125370\n"
     ]
    }
   ],
   "source": [
    "df1 = pd.read_csv('../data/raw/IBS2_First_2_Years/Organism_values.csv')\n",
    "df2 = pd.read_csv('../data/raw/y3/organism_values.csv')\n",
    "print(df1.size, df2.size)\n",
    "org_df = df1.append( df2, ignore_index=True )\n",
    "print( org_df.size )"
   ]
  },
  {
   "cell_type": "code",
   "execution_count": 3,
   "metadata": {
    "scrolled": true
   },
   "outputs": [
    {
     "data": {
      "text/html": [
       "<div>\n",
       "<style scoped>\n",
       "    .dataframe tbody tr th:only-of-type {\n",
       "        vertical-align: middle;\n",
       "    }\n",
       "\n",
       "    .dataframe tbody tr th {\n",
       "        vertical-align: top;\n",
       "    }\n",
       "\n",
       "    .dataframe thead th {\n",
       "        text-align: right;\n",
       "    }\n",
       "</style>\n",
       "<table border=\"1\" class=\"dataframe\">\n",
       "  <thead>\n",
       "    <tr style=\"text-align: right;\">\n",
       "      <th></th>\n",
       "      <th>CRUISE_ID</th>\n",
       "      <th>OPERATION_ID</th>\n",
       "      <th>ACTION_NAME</th>\n",
       "      <th>ORGANISM_ID</th>\n",
       "      <th>ORGANISM_ACTION_ID</th>\n",
       "      <th>SPECIES</th>\n",
       "      <th>SPECIES_GROUP_ID</th>\n",
       "      <th>PARAM</th>\n",
       "      <th>UNITS</th>\n",
       "      <th>VALUE</th>\n",
       "    </tr>\n",
       "  </thead>\n",
       "  <tbody>\n",
       "    <tr>\n",
       "      <th>0</th>\n",
       "      <td>201680</td>\n",
       "      <td>3</td>\n",
       "      <td>Record GF Maturity</td>\n",
       "      <td>116</td>\n",
       "      <td>335</td>\n",
       "      <td>Gadus morhua (Atlantic cod)</td>\n",
       "      <td>7999</td>\n",
       "      <td>Record GF Maturity</td>\n",
       "      <td>NaN</td>\n",
       "      <td>Immature</td>\n",
       "    </tr>\n",
       "    <tr>\n",
       "      <th>1</th>\n",
       "      <td>201680</td>\n",
       "      <td>3</td>\n",
       "      <td>Record GF Maturity</td>\n",
       "      <td>117</td>\n",
       "      <td>335</td>\n",
       "      <td>Gadus morhua (Atlantic cod)</td>\n",
       "      <td>7999</td>\n",
       "      <td>Record GF Maturity</td>\n",
       "      <td>NaN</td>\n",
       "      <td>Immature</td>\n",
       "    </tr>\n",
       "    <tr>\n",
       "      <th>2</th>\n",
       "      <td>201680</td>\n",
       "      <td>3</td>\n",
       "      <td>Record GF Maturity</td>\n",
       "      <td>120</td>\n",
       "      <td>335</td>\n",
       "      <td>Gadus morhua (Atlantic cod)</td>\n",
       "      <td>7999</td>\n",
       "      <td>Record GF Maturity</td>\n",
       "      <td>NaN</td>\n",
       "      <td>Immature</td>\n",
       "    </tr>\n",
       "    <tr>\n",
       "      <th>3</th>\n",
       "      <td>201680</td>\n",
       "      <td>3</td>\n",
       "      <td>Record GF Maturity</td>\n",
       "      <td>121</td>\n",
       "      <td>335</td>\n",
       "      <td>Gadus morhua (Atlantic cod)</td>\n",
       "      <td>7999</td>\n",
       "      <td>Record GF Maturity</td>\n",
       "      <td>NaN</td>\n",
       "      <td>Immature</td>\n",
       "    </tr>\n",
       "    <tr>\n",
       "      <th>4</th>\n",
       "      <td>201680</td>\n",
       "      <td>3</td>\n",
       "      <td>Record Length cm</td>\n",
       "      <td>116</td>\n",
       "      <td>1083</td>\n",
       "      <td>Gadus morhua (Atlantic cod)</td>\n",
       "      <td>7999</td>\n",
       "      <td>Length</td>\n",
       "      <td>cm</td>\n",
       "      <td>37.5</td>\n",
       "    </tr>\n",
       "  </tbody>\n",
       "</table>\n",
       "</div>"
      ],
      "text/plain": [
       "   CRUISE_ID  OPERATION_ID         ACTION_NAME  ORGANISM_ID  \\\n",
       "0     201680             3  Record GF Maturity          116   \n",
       "1     201680             3  Record GF Maturity          117   \n",
       "2     201680             3  Record GF Maturity          120   \n",
       "3     201680             3  Record GF Maturity          121   \n",
       "4     201680             3    Record Length cm          116   \n",
       "\n",
       "   ORGANISM_ACTION_ID                      SPECIES  SPECIES_GROUP_ID  \\\n",
       "0                 335  Gadus morhua (Atlantic cod)              7999   \n",
       "1                 335  Gadus morhua (Atlantic cod)              7999   \n",
       "2                 335  Gadus morhua (Atlantic cod)              7999   \n",
       "3                 335  Gadus morhua (Atlantic cod)              7999   \n",
       "4                1083  Gadus morhua (Atlantic cod)              7999   \n",
       "\n",
       "                PARAM UNITS     VALUE  \n",
       "0  Record GF Maturity   NaN  Immature  \n",
       "1  Record GF Maturity   NaN  Immature  \n",
       "2  Record GF Maturity   NaN  Immature  \n",
       "3  Record GF Maturity   NaN  Immature  \n",
       "4              Length    cm      37.5  "
      ]
     },
     "execution_count": 3,
     "metadata": {},
     "output_type": "execute_result"
    }
   ],
   "source": [
    "org_df.head()"
   ]
  },
  {
   "cell_type": "code",
   "execution_count": 4,
   "metadata": {
    "scrolled": true
   },
   "outputs": [
    {
     "name": "stdout",
     "output_type": "stream",
     "text": [
      "CRUISE IDs  {201680, 201681, 201682, 201683, 201684, 201780, 201781}\n",
      "OPERATION IDs  {3, 4, 5, 6, 7, 8, 9, 10, 11, 12, 13, 14, 15, 16, 17, 18, 19, 20, 21, 22, 23, 24, 25, 26, 27, 29, 30, 31, 32, 33, 34, 35, 36, 37, 38, 39, 40, 41, 42, 43, 44, 45, 46, 47, 48, 49, 50, 51, 52, 53, 54, 55, 56, 57, 58, 59, 60, 61, 63, 64, 65, 66, 67, 69, 73, 74, 75, 76, 78, 79, 80, 81, 82, 83, 84, 85, 86, 87, 89, 90, 91, 92, 93, 94, 97, 98, 99, 100, 102, 103, 104, 105, 106, 107, 108, 109, 110, 111, 112, 113, 114, 115, 116, 117, 119, 120, 122, 123, 124, 125, 126, 131, 132, 133, 134, 135, 136, 138, 139, 141, 142, 144, 145, 146, 147, 148, 149, 150, 153, 154, 155, 156, 157, 158, 159, 162, 163, 164, 166, 167, 168, 169, 170, 172, 173, 174, 175, 178, 179, 180, 181, 185, 188, 189, 190, 191, 194, 197, 198, 200, 201, 203, 207, 208, 209, 210, 214, 215, 217, 218, 222, 223, 224, 225, 226, 227, 228, 229, 230}\n",
      "ACTION NAME  {'Record Length cm', 'Record Sex', 'Record GF Maturity'}\n",
      "ORGANISM_ID  3655\n"
     ]
    }
   ],
   "source": [
    "print( \"CRUISE IDs \", set([i for i in org_df['CRUISE_ID']] ))\n",
    "print( \"OPERATION IDs \", set([i for i in org_df['OPERATION_ID']] ))\n",
    "print( \"ACTION NAME \", set([i for i in org_df['ACTION_NAME']] ))\n",
    "print( \"ORGANISM_ID \", len(set([i for i in org_df['ORGANISM_ID']] )))\n",
    "\n",
    "#org_df.head()"
   ]
  }
 ],
 "metadata": {
  "kernelspec": {
   "display_name": "Python 3",
   "language": "python",
   "name": "python3"
  },
  "language_info": {
   "codemirror_mode": {
    "name": "ipython",
    "version": 3
   },
   "file_extension": ".py",
   "mimetype": "text/x-python",
   "name": "python",
   "nbconvert_exporter": "python",
   "pygments_lexer": "ipython3",
   "version": "3.5.2"
  }
 },
 "nbformat": 4,
 "nbformat_minor": 2
}
