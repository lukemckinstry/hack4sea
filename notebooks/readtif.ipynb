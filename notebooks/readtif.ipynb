{
 "cells": [
  {
   "cell_type": "code",
   "execution_count": 1,
   "metadata": {},
   "outputs": [],
   "source": [
    "import gdal\n",
    "import rasterio\n",
    "import numpy as np"
   ]
  },
  {
   "cell_type": "code",
   "execution_count": 13,
   "metadata": {
    "scrolled": true
   },
   "outputs": [
    {
     "data": {
      "text/plain": [
       "osgeo.gdal.Dataset"
      ]
     },
     "execution_count": 13,
     "metadata": {},
     "output_type": "execute_result"
    }
   ],
   "source": [
    "filepath = r\"../data/raw/satw/temp.tiff\"\n",
    "filepath2 = r\"../data/raw/satw/la.tif\"\n",
    "\n",
    "\n",
    "# Open the file:\n",
    "raster = gdal.Open(filepath2)\n",
    "\n",
    "# Check type of the variable 'raster'\n",
    "type(raster)"
   ]
  },
  {
   "cell_type": "code",
   "execution_count": 14,
   "metadata": {},
   "outputs": [
    {
     "name": "stdout",
     "output_type": "stream",
     "text": [
      "PROJCS[\"WGS 84 / Pseudo-Mercator\",GEOGCS[\"WGS 84\",DATUM[\"WGS_1984\",SPHEROID[\"WGS 84\",6378137,298.257223563,AUTHORITY[\"EPSG\",\"7030\"]],AUTHORITY[\"EPSG\",\"6326\"]],PRIMEM[\"Greenwich\",0,AUTHORITY[\"EPSG\",\"8901\"]],UNIT[\"degree\",0.0174532925199433,AUTHORITY[\"EPSG\",\"9122\"]],AUTHORITY[\"EPSG\",\"4326\"]],PROJECTION[\"Mercator_1SP\"],PARAMETER[\"central_meridian\",0],PARAMETER[\"scale_factor\",1],PARAMETER[\"false_easting\",0],PARAMETER[\"false_northing\",0],UNIT[\"metre\",1,AUTHORITY[\"EPSG\",\"9001\"]],AXIS[\"X\",EAST],AXIS[\"Y\",NORTH],EXTENSION[\"PROJ4\",\"+proj=merc +a=6378137 +b=6378137 +lat_ts=0.0 +lon_0=0.0 +x_0=0.0 +y_0=0 +k=1.0 +units=m +nadgrids=@null +wktext +no_defs\"],AUTHORITY[\"EPSG\",\"3857\"]]\n",
      "4096\n",
      "4096\n",
      "4\n"
     ]
    },
    {
     "data": {
      "text/plain": [
       "{'AREA_OR_POINT': 'Area'}"
      ]
     },
     "execution_count": 14,
     "metadata": {},
     "output_type": "execute_result"
    }
   ],
   "source": [
    "# Projection\n",
    "print(raster.GetProjection())\n",
    "\n",
    "# Dimensions\n",
    "print( raster.RasterXSize )\n",
    "print( raster.RasterYSize )\n",
    "\n",
    "# Number of bands\n",
    "print( raster.RasterCount )\n",
    "\n",
    "# Metadata for the raster dataset\n",
    "raster.GetMetadata()"
   ]
  },
  {
   "cell_type": "markdown",
   "metadata": {},
   "source": [
    "#### Read Raster as Array"
   ]
  },
  {
   "cell_type": "code",
   "execution_count": 25,
   "metadata": {},
   "outputs": [],
   "source": [
    "# Read raster data as numeric array from GDAL Dataset\n",
    "rasterArray = raster.ReadAsArray()"
   ]
  },
  {
   "cell_type": "code",
   "execution_count": 26,
   "metadata": {},
   "outputs": [
    {
     "data": {
      "text/plain": [
       "numpy.ndarray"
      ]
     },
     "execution_count": 26,
     "metadata": {},
     "output_type": "execute_result"
    }
   ],
   "source": [
    "type(rasterArray)\n"
   ]
  },
  {
   "cell_type": "code",
   "execution_count": 53,
   "metadata": {},
   "outputs": [
    {
     "name": "stdout",
     "output_type": "stream",
     "text": [
      "(496160, 560, 1) 1488480\n"
     ]
    },
    {
     "data": {
      "text/plain": [
       "(560, 1488480)"
      ]
     },
     "execution_count": 53,
     "metadata": {},
     "output_type": "execute_result"
    }
   ],
   "source": [
    "print( rasterArray.strides, rasterArray.nbytes )\n",
    "rasterArray.shape\n",
    "\n",
    "rasterArray[0][0].size, rasterArray[0][0].size * 886 * 3\n",
    "\n",
    "\n",
    "\n",
    "\n",
    "# Get nodata value from the GDAL band object\n",
    "#nodata = band.GetNoDataValue()\n"
   ]
  },
  {
   "cell_type": "markdown",
   "metadata": {},
   "source": [
    "#### Use Rasterio"
   ]
  },
  {
   "cell_type": "code",
   "execution_count": 5,
   "metadata": {},
   "outputs": [
    {
     "name": "stdout",
     "output_type": "stream",
     "text": [
      "{'type': 'Polygon', 'coordinates': [[[-70.554252, 43.415611], [-70.554252, 41.468834], [-69.323784, 41.468834], [-69.323784, 43.415611], [-70.554252, 43.415611]]]}\n"
     ]
    }
   ],
   "source": [
    "import rasterio\n",
    "import rasterio.features\n",
    "import rasterio.warp\n",
    "\n",
    "with rasterio.open('../data/raw/satw/temp.tiff') as dataset:\n",
    "\n",
    "    # Read the dataset's valid data mask as a ndarray.\n",
    "    mask = dataset.dataset_mask()\n",
    "\n",
    "    # Extract feature shapes and values from the array.\n",
    "    for geom, val in rasterio.features.shapes(\n",
    "            mask, transform=dataset.transform):\n",
    "\n",
    "        # Transform shapes from the dataset's own coordinate\n",
    "        # reference system to CRS84 (EPSG:4326).\n",
    "        geom = rasterio.warp.transform_geom(\n",
    "            dataset.crs, 'EPSG:4326', geom, precision=6)\n",
    "\n",
    "        # Print GeoJSON shapes to stdout.\n",
    "        print(geom)"
   ]
  },
  {
   "cell_type": "markdown",
   "metadata": {},
   "source": [
    "#### Investigate Bands"
   ]
  },
  {
   "cell_type": "code",
   "execution_count": 30,
   "metadata": {},
   "outputs": [
    {
     "name": "stdout",
     "output_type": "stream",
     "text": [
      "<class 'osgeo.gdal.Band'>\n"
     ]
    },
    {
     "data": {
      "text/plain": [
       "'Byte'"
      ]
     },
     "execution_count": 30,
     "metadata": {},
     "output_type": "execute_result"
    }
   ],
   "source": [
    "# Read the raster band as separate variable\n",
    "band = raster.GetRasterBand(1)\n",
    "\n",
    "# Check type of the variable 'band'\n",
    "print( type(band))\n",
    "\n",
    "# Data type of the values\n",
    "gdal.GetDataTypeName(band.DataType)"
   ]
  },
  {
   "cell_type": "code",
   "execution_count": 32,
   "metadata": {},
   "outputs": [
    {
     "name": "stdout",
     "output_type": "stream",
     "text": [
      "<class 'NoneType'>\n"
     ]
    }
   ],
   "source": [
    "nodata = band.GetNoDataValue()\n",
    "print(  type(nodata) )"
   ]
  },
  {
   "cell_type": "code",
   "execution_count": 24,
   "metadata": {},
   "outputs": [
    {
     "name": "stdout",
     "output_type": "stream",
     "text": [
      "[ MIN ] =  None\n",
      "[ MAX ] =  None\n"
     ]
    }
   ],
   "source": [
    "# # Compute statistics if needed\n",
    "# if band.GetMinimum() is None or band.GetMaximum()is None:\n",
    "#     band.ComputeStatistics(0)\n",
    "#     print(\"Statistics computed.\")\n",
    "\n",
    "# # Fetch metadata for the band\n",
    "# band.GetMetadata()\n",
    "\n",
    "# # Print only selected metadata:\n",
    "# print (\"[ NO DATA VALUE ] = \", band.GetNoDataValue()) # none\n",
    "print (\"[ MIN ] = \", band.GetMinimum())\n",
    "print (\"[ MAX ] = \", band.GetMaximum())"
   ]
  },
  {
   "cell_type": "markdown",
   "metadata": {},
   "source": [
    "#### rasterio work"
   ]
  },
  {
   "cell_type": "code",
   "execution_count": 15,
   "metadata": {
    "scrolled": true
   },
   "outputs": [
    {
     "name": "stdout",
     "output_type": "stream",
     "text": [
      "[[ 80.33333333  99.33333333 105.66666667 ... 118.         105.33333333\n",
      "  103.33333333]\n",
      " [ 97.33333333 113.         117.         ... 113.         105.\n",
      "  105.        ]\n",
      " [128.33333333 134.66666667 132.         ... 111.         106.\n",
      "  104.        ]\n",
      " ...\n",
      " [247.         247.         247.33333333 ...  44.          44.66666667\n",
      "   47.66666667]\n",
      " [238.         239.33333333 240.         ...  45.66666667  46.\n",
      "   46.33333333]\n",
      " [169.66666667 198.66666667 216.33333333 ...  46.66666667  44.66666667\n",
      "   44.        ]]\n"
     ]
    }
   ],
   "source": [
    "\n",
    "# Read raster bands directly to Numpy arrays.\n",
    "#\n",
    "with rasterio.open('../data/raw/satw/la.tif') as src:\n",
    "    r, g, b, o = src.read()\n",
    "\n",
    "    # Combine arrays in place. Expecting that the sum will\n",
    "    # temporarily exceed the 8-bit integer range, initialize it as\n",
    "    # a 64-bit float (the numpy default) array. Adding other\n",
    "    # arrays to it in-place converts those arrays \"up\" and\n",
    "    # preserves the type of the total array.\n",
    "    total = np.zeros(r.shape)\n",
    "    for band in r, g, b:\n",
    "        total += band\n",
    "    total /= 3\n",
    "    print(total)\n",
    "\n",
    "    # Write the product as a raster band to a new 8-bit file. For\n",
    "    # the new file's profile, we start with the meta attributes of\n",
    "    # the source file, but then change the band count to 1, set the\n",
    "    # dtype to uint8, and specify LZW compression.\n",
    "    profile = src.profile\n",
    "    profile.update(dtype=rasterio.uint8, count=1, compress='lzw')\n",
    "\n",
    "    with rasterio.open('../data/raw/satw/la-gray.tiff', 'w', **profile) as dst:\n",
    "        dst.write(total.astype(rasterio.uint8), 1)"
   ]
  },
  {
   "cell_type": "markdown",
   "metadata": {},
   "source": [
    "### Get pixel value at coordinates"
   ]
  },
  {
   "cell_type": "code",
   "execution_count": 40,
   "metadata": {},
   "outputs": [
    {
     "name": "stdout",
     "output_type": "stream",
     "text": [
      "transform -->  (-70.55425241263127, 0.002197265625, 0.0, 43.41561113664346, 0.0, -0.002197265625)\n",
      "cols, rows 560 886\n",
      "0.002197265625 0.002197265625\n",
      "-70.55425241263127 43.41561113664346\n",
      "576 178\n",
      "98 204 0\n",
      "331 260\n",
      "66 194 0\n",
      "694 110\n",
      "254 239 0\n"
     ]
    }
   ],
   "source": [
    "from osgeo import gdal\n",
    "\n",
    "driver = gdal.GetDriverByName('GTiff')\n",
    "filename = \"../data/raw/satw/temp.tiff\" #path to raster\n",
    "raster = gdal.Open(filename)\n",
    "band = (raster.GetRasterBand(1),raster.GetRasterBand(2),raster.GetRasterBand(3))\n",
    "\n",
    "cols = raster.RasterXSize\n",
    "rows = raster.RasterYSize\n",
    "\n",
    "transform = raster.GetGeoTransform()\n",
    "print( \"transform --> \", transform )\n",
    "xOrigin = transform[0]\n",
    "yOrigin = transform[3]\n",
    "pixelWidth = transform[1]\n",
    "pixelHeight = -transform[5]\n",
    "\n",
    "print( \"cols, rows\", cols, rows )\n",
    "print(  pixelWidth, pixelHeight )\n",
    "print( xOrigin, yOrigin )\n",
    "\n",
    "data = (band[0].ReadAsArray(0, 0, cols, rows),\n",
    "        band[1].ReadAsArray(0, 0, cols, rows),\n",
    "         band[2].ReadAsArray(0, 0, cols, rows))\n",
    "\n",
    "\n",
    "# points_list = [ (355278.165927, 4473095.13829), (355978.319525, 4472871.11636) ] #list of X,Y coordinates\n",
    "points_list = [ (42.149770, -70.160992), (42.688064, -69.981054), (41.890654, -70.311888)] #list of X,Y coordinates\n",
    "\n",
    "for point in points_list:\n",
    "    col = int((point[1] - xOrigin) / pixelWidth)\n",
    "    row = int((yOrigin - point[0] ) / pixelHeight)\n",
    "\n",
    "    print(row,col)\n",
    "    print( data[0][row][col], data[1][row][col], data[2][row][col] )"
   ]
  },
  {
   "cell_type": "markdown",
   "metadata": {},
   "source": [
    "### call gdallocationinfo as python subprocess"
   ]
  },
  {
   "cell_type": "code",
   "execution_count": 28,
   "metadata": {},
   "outputs": [
    {
     "name": "stdout",
     "output_type": "stream",
     "text": [
      "25.26274509803922\n"
     ]
    }
   ],
   "source": [
    "\n",
    "import subprocess\n",
    "\n",
    "bathymetry = \"../data/raw/bathymetry/bathymetry.tif\"\n",
    "sst = \"../data/raw/aquaMODIS-L2-sst/2016-07.tiff\"\n",
    "\n",
    "\n",
    "test = subprocess.Popen([\"gdallocationinfo\",\n",
    "                        \"-valonly\",\n",
    "                        \"-wgs84\",\n",
    "                        sst,\n",
    "                        \"-70.164059\",\n",
    "                         \"42.042833\"\n",
    "                        ], stdout=subprocess.PIPE)\n",
    "\n",
    "output = test.communicate()\n",
    "val = float(output[0].decode(\"utf-8\"))\n",
    "cel = ((val / 255) * 44) -2\n",
    "\n",
    "print( cel )\n",
    "\n"
   ]
  },
  {
   "cell_type": "code",
   "execution_count": null,
   "metadata": {},
   "outputs": [],
   "source": []
  },
  {
   "cell_type": "code",
   "execution_count": null,
   "metadata": {},
   "outputs": [],
   "source": []
  }
 ],
 "metadata": {
  "kernelspec": {
   "display_name": "Python 3",
   "language": "python",
   "name": "python3"
  },
  "language_info": {
   "codemirror_mode": {
    "name": "ipython",
    "version": 3
   },
   "file_extension": ".py",
   "mimetype": "text/x-python",
   "name": "python",
   "nbconvert_exporter": "python",
   "pygments_lexer": "ipython3",
   "version": "3.5.2"
  }
 },
 "nbformat": 4,
 "nbformat_minor": 2
}
