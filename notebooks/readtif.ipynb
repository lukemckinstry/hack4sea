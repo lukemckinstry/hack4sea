{
 "cells": [
  {
   "cell_type": "code",
   "execution_count": 3,
   "metadata": {},
   "outputs": [],
   "source": [
    "import gdal"
   ]
  },
  {
   "cell_type": "code",
   "execution_count": 11,
   "metadata": {
    "scrolled": true
   },
   "outputs": [
    {
     "data": {
      "text/plain": [
       "osgeo.gdal.Dataset"
      ]
     },
     "execution_count": 11,
     "metadata": {},
     "output_type": "execute_result"
    }
   ],
   "source": [
    "filepath = r\"../data/raw/satw/temp.tiff\"\n",
    "filepath2 = r\"../data/raw/satw/temp.tiff\"\n",
    "\n",
    "\n",
    "# Open the file:\n",
    "raster = gdal.Open(filepath)\n",
    "\n",
    "# Check type of the variable 'raster'\n",
    "type(raster)"
   ]
  },
  {
   "cell_type": "code",
   "execution_count": 12,
   "metadata": {},
   "outputs": [
    {
     "name": "stdout",
     "output_type": "stream",
     "text": [
      "GEOGCS[\"WGS 84\",DATUM[\"WGS_1984\",SPHEROID[\"WGS 84\",6378137,298.257223563,AUTHORITY[\"EPSG\",\"7030\"]],AUTHORITY[\"EPSG\",\"6326\"]],PRIMEM[\"Greenwich\",0],UNIT[\"degree\",0.0174532925199433],AUTHORITY[\"EPSG\",\"4326\"]]\n",
      "560\n",
      "886\n",
      "3\n"
     ]
    },
    {
     "data": {
      "text/plain": [
       "{'AREA_OR_POINT': 'Area',\n",
       " 'TIFFTAG_RESOLUTIONUNIT': '2 (pixels/inch)',\n",
       " 'TIFFTAG_XRESOLUTION': '72',\n",
       " 'TIFFTAG_YRESOLUTION': '72'}"
      ]
     },
     "execution_count": 12,
     "metadata": {},
     "output_type": "execute_result"
    }
   ],
   "source": [
    "# Projection\n",
    "print(raster.GetProjection())\n",
    "\n",
    "# Dimensions\n",
    "print( raster.RasterXSize )\n",
    "print( raster.RasterYSize )\n",
    "\n",
    "# Number of bands\n",
    "print( raster.RasterCount )\n",
    "\n",
    "# Metadata for the raster dataset\n",
    "raster.GetMetadata()"
   ]
  },
  {
   "cell_type": "markdown",
   "metadata": {},
   "source": [
    "#### Read Raster as Array"
   ]
  },
  {
   "cell_type": "code",
   "execution_count": 25,
   "metadata": {},
   "outputs": [],
   "source": [
    "# Read raster data as numeric array from GDAL Dataset\n",
    "rasterArray = raster.ReadAsArray()"
   ]
  },
  {
   "cell_type": "code",
   "execution_count": 26,
   "metadata": {},
   "outputs": [
    {
     "data": {
      "text/plain": [
       "numpy.ndarray"
      ]
     },
     "execution_count": 26,
     "metadata": {},
     "output_type": "execute_result"
    }
   ],
   "source": [
    "type(rasterArray)\n"
   ]
  },
  {
   "cell_type": "markdown",
   "metadata": {},
   "source": [
    "#### Investigate Bands"
   ]
  },
  {
   "cell_type": "code",
   "execution_count": 23,
   "metadata": {},
   "outputs": [
    {
     "name": "stdout",
     "output_type": "stream",
     "text": [
      "<class 'osgeo.gdal.Band'>\n"
     ]
    },
    {
     "data": {
      "text/plain": [
       "'Byte'"
      ]
     },
     "execution_count": 23,
     "metadata": {},
     "output_type": "execute_result"
    }
   ],
   "source": [
    "# Read the raster band as separate variable\n",
    "band = raster.GetRasterBand(1)\n",
    "\n",
    "# Check type of the variable 'band'\n",
    "print( type(band))\n",
    "\n",
    "# Data type of the values\n",
    "gdal.GetDataTypeName(band.DataType)"
   ]
  },
  {
   "cell_type": "code",
   "execution_count": 24,
   "metadata": {},
   "outputs": [
    {
     "name": "stdout",
     "output_type": "stream",
     "text": [
      "[ MIN ] =  None\n",
      "[ MAX ] =  None\n"
     ]
    }
   ],
   "source": [
    "# # Compute statistics if needed\n",
    "# if band.GetMinimum() is None or band.GetMaximum()is None:\n",
    "#     band.ComputeStatistics(0)\n",
    "#     print(\"Statistics computed.\")\n",
    "\n",
    "# # Fetch metadata for the band\n",
    "# band.GetMetadata()\n",
    "\n",
    "# # Print only selected metadata:\n",
    "# print (\"[ NO DATA VALUE ] = \", band.GetNoDataValue()) # none\n",
    "print (\"[ MIN ] = \", band.GetMinimum())\n",
    "print (\"[ MAX ] = \", band.GetMaximum())"
   ]
  }
 ],
 "metadata": {
  "kernelspec": {
   "display_name": "Python 3",
   "language": "python",
   "name": "python3"
  },
  "language_info": {
   "codemirror_mode": {
    "name": "ipython",
    "version": 3
   },
   "file_extension": ".py",
   "mimetype": "text/x-python",
   "name": "python",
   "nbconvert_exporter": "python",
   "pygments_lexer": "ipython3",
   "version": "3.5.2"
  }
 },
 "nbformat": 4,
 "nbformat_minor": 2
}
