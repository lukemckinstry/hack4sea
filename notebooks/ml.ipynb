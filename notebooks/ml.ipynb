{
 "cells": [
  {
   "cell_type": "code",
   "execution_count": 101,
   "metadata": {},
   "outputs": [],
   "source": [
    "import math\n",
    "import numpy as np\n",
    "import pandas as pd\n",
    "from sklearn import preprocessing,svm\n",
    "from sklearn.preprocessing import StandardScaler\n",
    "from sklearn import model_selection,metrics\n",
    "# from sklearn.linear_model import LinearRegression\n",
    "from sklearn.model_selection import train_test_split,KFold,cross_val_score,cross_val_predict\n",
    "from sklearn.naive_bayes import GaussianNB\n",
    "\n",
    "\n",
    "import matplotlib.pyplot as plt\n",
    "from matplotlib import style\n",
    "import datetime\n"
   ]
  },
  {
   "cell_type": "code",
   "execution_count": 125,
   "metadata": {},
   "outputs": [],
   "source": [
    "raw_data='../data/processed/fishtow-ml.csv'\n",
    "df = pd.read_csv(raw_data)\n",
    "\n",
    "df = df[df['sex'] == 'F']\n",
    "#df = df[df['winter'] == 1]\n",
    "\n",
    "# Create a DataFrame for numerical features\n",
    "data1 = pd.DataFrame(df, columns=['month','length','sst','bth'])\n",
    "\n",
    " \n",
    "# Create a DataFrame for categorical features\n",
    "#cols_to_transform = pd.DataFrame(df,columns=['sex'])\n",
    "#dummies = pd.get_dummies(cols_to_transform)\n"
   ]
  },
  {
   "cell_type": "markdown",
   "metadata": {},
   "source": [
    "### SVM Classifier"
   ]
  },
  {
   "cell_type": "code",
   "execution_count": 126,
   "metadata": {},
   "outputs": [
    {
     "name": "stdout",
     "output_type": "stream",
     "text": [
      "((945, 4), (945,))\n",
      "((237, 4), (237,))\n",
      "('Score: ', 0.9746835443037974)\n",
      "(15, 0)\n"
     ]
    }
   ],
   "source": [
    "# Join data1 and dummies using Numpy and yield as array\n",
    "X = np.array(data1) \n",
    "X_scaled = preprocessing.scale(X)\n",
    "\n",
    "# Specify the dependent variable as array\n",
    "Y = np.array(df['label-bin'])\n",
    "\n",
    "X_train, X_test, y_train, y_test = train_test_split(X_scaled, Y, test_size=0.2)\n",
    "\n",
    "print( X_train.shape, y_train.shape )\n",
    "print( X_test.shape, y_test.shape )\n",
    "\n",
    "clf = svm.SVC()\n",
    "model = clf.fit(X_train, y_train) \n",
    "predictions = clf.predict(X_test)\n",
    "\n",
    "print( \"Score: \", model.score(X_test, y_test))\n",
    "\n",
    "\n",
    "#print(\"Number of mislabeled points out of a total %d points : %d\" % (X_scaled.shape[0],(Y == y_pred).sum()))\n",
    "# print( [i for i in (Y == y_pred) if i == 0] )\n",
    "\n",
    "#print( set([i for i in y_pred]) )\n",
    "# train_pos = [i for i,val in enumerate(Y) if val==0]\n",
    "# pred_pos = [i for i,val in enumerate(y_pred) if val==0]\n",
    "# #print( train_pos, pred_pos )\n",
    "# print( len(train_pos), len(pred_pos) )\n",
    "train_pos = [i for i,val in enumerate(y_train) if val!=0]\n",
    "pred_pos = [i for i,val in enumerate(predictions) if val!=0]\n",
    "print( len(train_pos), len(pred_pos) )"
   ]
  },
  {
   "cell_type": "markdown",
   "metadata": {},
   "source": [
    "### Gaussian Naive Bayes Classifier"
   ]
  },
  {
   "cell_type": "code",
   "execution_count": 127,
   "metadata": {},
   "outputs": [
    {
     "name": "stdout",
     "output_type": "stream",
     "text": [
      "(2.61024516534121e-16, 0.8660254037844386)\n",
      "((945, 4), (945,))\n",
      "((237, 4), (237,))\n",
      "('Score: ', 0.9873417721518988)\n",
      "(18, 0)\n"
     ]
    }
   ],
   "source": [
    "# Join data1 and dummies using Numpy and yield as array\n",
    "X = np.array(data1) \n",
    "X_scaled = preprocessing.scale(X)\n",
    "print( X_scaled.mean(), X_scaled.std() )\n",
    "# Specify the dependent variable as array\n",
    "Y = np.array(df['label-bin'])\n",
    "\n",
    "\n",
    "X_train, X_test, y_train, y_test = train_test_split(X_scaled, Y, test_size=0.2)\n",
    "\n",
    "print( X_train.shape, y_train.shape )\n",
    "print( X_test.shape, y_test.shape )\n",
    "\n",
    "gnb = GaussianNB()\n",
    "model = gnb.fit(X_train, y_train)\n",
    "predictions = gnb.predict(X_test)\n",
    "\n",
    "print( \"Score: \", model.score(X_test, y_test))\n",
    "\n",
    "predictions[90:600]\n",
    "\n",
    "\n",
    "# y_pred = gnb.fit( X_scaled, Y ).predict( X_scaled )\n",
    "# print( y_pred.shape )\n",
    "# print(\"Number of mislabeled points out of a total %d points : %d\" % (X_scaled.shape[0],(Y != y_pred).sum()))\n",
    "# print( data1[:4] , Y[:4] )\n",
    "\n",
    "train_pos = [i for i,val in enumerate(y_train) if val!=0]\n",
    "pred_pos = [i for i,val in enumerate(predictions) if val!=0]\n",
    "print( len(train_pos), len(pred_pos) )"
   ]
  },
  {
   "cell_type": "code",
   "execution_count": 11,
   "metadata": {},
   "outputs": [
    {
     "name": "stdout",
     "output_type": "stream",
     "text": [
      "('The linear cofficients', array([ 0.00756155, -0.02226366,  0.01141143,  0.        , -0.06390983,\n",
      "        0.06390983]))\n",
      "('This is predicted NPP2001 Values ', array([ 1.64895635e-01,  2.61367025e-01,  5.83860668e-02,  3.80651446e-01,\n",
      "        1.51020147e-01,  3.74063578e-01,  4.71138432e-01,  3.70282803e-01,\n",
      "        1.39985490e-01,  5.29075364e-01,  2.34332245e-01,  2.62869996e-01,\n",
      "        3.28316312e-01,  3.82351834e-01,  4.11832541e-01,  3.05648770e-01,\n",
      "        2.96535009e-01,  2.72709351e-01,  4.91068111e-01,  2.26770694e-01,\n",
      "        2.56290191e-01,  5.08946885e-01,  3.23928394e-01,  4.38336757e-01,\n",
      "        3.87234671e-01,  5.30873605e-01,  1.86694477e-01,  3.40858636e-01,\n",
      "        4.19334682e-01,  1.79132926e-01, -9.36305492e-02,  3.21859429e-01,\n",
      "        2.83347282e-01, -9.38390489e-02,  3.36217036e-01,  1.94256027e-01,\n",
      "        1.35936396e-01,  6.67012742e-01,  1.11314621e-02,  4.29074820e-01,\n",
      "        1.15057796e-01,  2.67497476e-01,  4.76430441e-01,  2.37977979e-01,\n",
      "        3.57050204e-01, -4.07650178e-02, -1.04240432e-02,  5.50861394e-01,\n",
      "        3.57199216e-01,  6.04165823e-02,  5.30148677e-01,  6.06520337e-01,\n",
      "        6.74574292e-01,  1.17300839e-01,  4.17420897e-01,  2.84051676e-01,\n",
      "        4.57142435e-01,  5.93348544e-01, -1.78319915e-01,  5.98983769e-02,\n",
      "        6.83260973e-01,  3.62623053e-01,  5.08430227e-01,  3.62977733e-01,\n",
      "        5.10073289e-01,  6.07245266e-01,  5.91422218e-02,  1.16610006e-01,\n",
      "        4.28007068e-01,  5.92123941e-01, -2.36123996e-02,  2.60601530e-01,\n",
      "        4.60923211e-01,  1.13520063e-01, -6.64089672e-02,  3.31905697e-01,\n",
      "        2.40782841e-01,  3.86418540e-01,  2.97223470e-01,  3.97474935e-01,\n",
      "        1.24554720e-01,  2.20525313e-01,  4.68582960e-01,  7.93204587e-02,\n",
      "        1.32677670e-04,  2.78380628e-01,  2.31516125e-01,  4.08090555e-01,\n",
      "        4.80538974e-01, -1.05188156e-02,  3.35551431e-01,  3.81625128e-01,\n",
      "        1.28335496e-01,  5.63102342e-01,  3.62016858e-01,  6.71262070e-02,\n",
      "        3.71652646e-01,  3.43817376e-01,  3.17253750e-01,  4.64802184e-01,\n",
      "        1.51626343e-01,  2.36042605e-01,  3.89815185e-01,  2.07140113e-01,\n",
      "        3.17253750e-01,  4.20159586e-01,  2.09748980e-01, -2.36123996e-02,\n",
      "        4.07992357e-01,  2.38682373e-01,  4.15423155e-01,  2.30759969e-01,\n",
      "        2.27241849e-01,  1.06023835e-01,  4.79925286e-01,  4.04929614e-01,\n",
      "        4.49679083e-01,  6.78430913e-02,  3.82568086e-01,  2.28684360e-01,\n",
      "        1.07298196e-01,  6.06771258e-01,  5.65007654e-02,  4.12499837e-01,\n",
      "        2.77653923e-01,  2.89661219e-01,  3.20366441e-01,  3.57715874e-01,\n",
      "        5.28119708e-01,  2.35734844e-02,  3.88258607e-01,  5.25196390e-01,\n",
      "        1.32116271e-01,  2.47317236e-01,  4.31501912e-01,  2.96927825e-01,\n",
      "        1.91791420e-01,  3.02955553e-01,  1.69207139e-01,  2.26635653e-01,\n",
      "        3.65276725e-01,  1.87580287e-01, -4.29681605e-02, -9.36305492e-02,\n",
      "        5.92374862e-01,  1.42110778e-01,  4.76892728e-01,  4.61021409e-01,\n",
      "        3.81625128e-01,  4.62361803e-01,  5.07703522e-01,  5.20287434e-01,\n",
      "        1.48561374e-01, -6.48966571e-02,  2.73945723e-01,  5.10898193e-01,\n",
      "        6.32737226e-02,  4.72265536e-01,  3.82637764e-01,  3.96809890e-01,\n",
      "        4.84432766e-01,  4.10646728e-01,  1.58361940e-01,  1.73643699e-01,\n",
      "        2.30416428e-01,  1.13520063e-01, -2.20043187e-02,  3.66502027e-01,\n",
      "        3.02857354e-01,  6.18589368e-01,  4.56284978e-01,  5.25294589e-01,\n",
      "        3.43112981e-01,  2.65049601e-01, -8.30443784e-02,  1.31327678e-01,\n",
      "        3.28526278e-01, -2.21294606e-02,  4.68083286e-01,  5.98689270e-02,\n",
      "        5.75064501e-01,  3.70282803e-01,  6.02481430e-01,  5.80351441e-01,\n",
      "        5.25294589e-01,  2.90788323e-01,  3.53903872e-01,  7.99514718e-02,\n",
      "        4.15652106e-01,  5.20287434e-01,  1.95439068e-01,  4.59795030e-01,\n",
      "        3.17980455e-01,  4.42117533e-01,  1.25576272e-01,  3.22473117e-01,\n",
      "        1.88608143e-01,  1.28941691e-01,  3.39332206e-01,  5.68443068e-02,\n",
      "        3.34303817e-01,  4.93122061e-02,  3.19908122e-01,  6.06250821e-02,\n",
      "        2.61268826e-01,  8.59583742e-02,  1.52557788e-02,  8.15889239e-02,\n",
      "        6.13812371e-02,  4.64703986e-01,  5.07531719e-01,  2.08293704e-01,\n",
      "        2.22894227e-01,  4.25068106e-02,  2.26635653e-01,  5.10898193e-01,\n",
      "        3.96748229e-01,  1.35897046e-01,  2.60542121e-01,  3.77844353e-01,\n",
      "        3.02251158e-01,  3.08862326e-01,  3.52007433e-01,  5.28550318e-02,\n",
      "        2.64278628e-01,  3.91016147e-01,  3.09692200e-01,  3.21859429e-01,\n",
      "        2.90908833e-01,  2.36404569e-01,  1.93901228e-01,  3.72245880e-01,\n",
      "        4.15652106e-01,  1.66749444e-01,  1.16993170e-01,  3.56311158e-01,\n",
      "        9.77061296e-02,  5.02705267e-01,  3.01524453e-01, -2.18611414e-02,\n",
      "        1.95141837e-01,  2.13586790e-01,  4.37837083e-01,  2.87832452e-01,\n",
      "        4.70870747e-01,  3.13561834e-01,  4.43886324e-01,  3.23023226e-01,\n",
      "        2.01817578e-01,  4.08710389e-01,  4.12598036e-01,  1.41726529e-01,\n",
      "        3.18911900e-02,  1.24493621e-01,  1.20361331e-01, -1.22364441e-01,\n",
      "        2.22793778e-01,  3.67785387e-01,  3.38084593e-01,  2.81372963e-01,\n",
      "        1.54610615e-01,  6.64743256e-01,  3.34438127e-01,  1.96697119e-01,\n",
      "        4.47727776e-01,  1.14750035e-02,  3.82351834e-01,  3.21034525e-01,\n",
      "        4.61928135e-02,  4.96331746e-01,  3.85405904e-01,  4.97011464e-01,\n",
      "        4.89392149e-02,  3.70896491e-01,  4.57240634e-01,  6.63380263e-03,\n",
      "        4.91994317e-01,  1.85086474e-01,  2.03951001e-01,  5.54316189e-01,\n",
      "        2.03359338e-01,  1.05958513e-01,  2.83743683e-01,  3.74085889e-01,\n",
      "        2.42483259e-01,  4.41189461e-01,  2.63716700e-01,  1.12043626e-01,\n",
      "        2.35734844e-02,  5.37679001e-01,  1.05267680e-01,  2.58960013e-01,\n",
      "        1.05994385e-01,  3.27368767e-01,  6.82862548e-01,  4.49679083e-01,\n",
      "        3.13472975e-01,  5.21406942e-01,  1.07536145e-01,  4.24120383e-02,\n",
      "        1.73839841e-01,  4.60160461e-01,  1.40712195e-01,  1.31399387e-01,\n",
      "        2.82351289e-01,  3.19432337e-01,  6.71262070e-02,  1.16610006e-01,\n",
      "        2.78839801e-01,  3.92967454e-01,  3.87204145e-01,  3.24815301e-01,\n",
      "        3.67228732e-01,  3.32376851e-01,  5.55540791e-01,  3.95047842e-01,\n",
      "        4.30775207e-01,  3.04119350e-01,  3.42653808e-01, -6.64089672e-02,\n",
      "        2.01269922e-01,  3.72838975e-01,  2.68830377e-01,  1.85047125e-01,\n",
      "        3.62721252e-01,  5.99417106e-01,  3.75892345e-01,  2.00776422e-01,\n",
      "        5.30148677e-01,  3.10418905e-01,  5.23343281e-01,  3.05243340e-01,\n",
      "        4.44243531e-01, -9.74766469e-02,  4.03411158e-01,  4.15652106e-01,\n",
      "        3.21859429e-01,  3.36255825e-01,  4.64802184e-01,  2.90317169e-01,\n",
      "        9.00980193e-02,  4.31619838e-01,  4.17155077e-01,  2.27241849e-01,\n",
      "        4.92875251e-01, -1.65027335e-02,  4.21437191e-02,  8.29661924e-02,\n",
      "        4.53459859e-01,  1.85653321e-01,  3.11829913e-01,  8.92801295e-02,\n",
      "        5.03223625e-01,  2.59219041e-01,  3.34329500e-02,  4.73090440e-01,\n",
      "        4.89315604e-01, -2.55765942e-02,  3.51378926e-01,  1.09431619e-01,\n",
      "        4.38238559e-01,  2.98349874e-01,  3.55159701e-01,  3.91742152e-01,\n",
      "        3.02955553e-01,  4.70663348e-01,  4.34555982e-01,  2.94524830e-01,\n",
      "       -8.45566885e-02,  5.48607747e-01,  1.96732992e-01,  5.67439771e-01,\n",
      "        1.03715470e-01,  4.50405789e-01, -1.39047443e-01,  6.62475811e-01,\n",
      "        3.57014151e-02,  4.71408079e-01,  5.31409709e-01,  1.92981667e-01,\n",
      "        3.86312630e-02,  2.85288049e-01,  6.01761579e-01,  4.68839441e-01,\n",
      "        3.08110091e-01,  3.04785020e-01,  4.72363735e-01,  1.43075433e-01,\n",
      "        4.86231007e-01,  6.13681577e-01,  3.91742152e-01,  5.15781731e-01,\n",
      "        1.72978094e-01,  3.28596076e-01,  4.42737366e-01,  2.09748980e-01,\n",
      "       -5.73351065e-02,  3.35357203e-01,  3.29420980e-01,  5.02609937e-01,\n",
      "        4.72191818e-01,  4.08710389e-01,  2.00109126e-01,  7.34797180e-02,\n",
      "        4.18207578e-01,  3.96043835e-01,  3.74692084e-01,  2.22854878e-01,\n",
      "        3.71009508e-01,  3.43778587e-01,  2.37251273e-01,  2.50024699e-01,\n",
      "        4.25768052e-01,  4.69309665e-01,  4.99555867e-01,  5.04973732e-01,\n",
      "        3.23023226e-01,  1.21658361e-02,  1.76372271e-01, -4.06996953e-02,\n",
      "        1.80153046e-01,  3.45187219e-01,  2.25449774e-01,  6.02815407e-02,\n",
      "        1.76299696e-01,  4.29876585e-01,  2.04557197e-01,  3.87235371e-01,\n",
      "        1.09431619e-01,  2.22066284e-01,  2.98634875e-01,  5.76525055e-01,\n",
      "       -1.79076070e-01,  2.55366556e-01,  1.35677289e-01,  2.15997721e-01,\n",
      "        1.96995646e-01,  4.62875859e-02,  3.00276840e-01,  1.08262851e-01,\n",
      "        2.34540745e-01,  1.32116271e-01,  4.08817260e-01,  3.25640204e-01,\n",
      "        1.95141837e-01,  2.71278251e-01, -1.27390682e-02,  3.85307705e-01,\n",
      "        3.14191007e-01,  1.74804495e-01,  2.22989919e-01]))\n",
      "('This is the prediction accuracy ', 0.1799847991907881)\n"
     ]
    }
   ],
   "source": [
    "# First we fit a model\n",
    "model=lm.fit(X_train,y_train)\n",
    "#print the coefficents\n",
    "print(\"The linear cofficients\", model.coef_)\n",
    "# Try to predict the y ( NPP_Predict) for the test data-features(independent variables(X_test)\n",
    "predictions=lm.predict(X_test)\n",
    "# Accuracy of the prediction\n",
    "confidence = lm.score(X_test, y_test)\n",
    "print(\"This is predicted NPP2001 Values \", predictions)\n",
    "print(\"This is the prediction accuracy \", confidence)\n"
   ]
  },
  {
   "cell_type": "code",
   "execution_count": 12,
   "metadata": {},
   "outputs": [
    {
     "data": {
      "image/png": "[encoded data removed]",
      "text/plain": [
       "<Figure size 432x288 with 1 Axes>"
      ]
     },
     "metadata": {
      "needs_background": "light"
     },
     "output_type": "display_data"
    }
   ],
   "source": [
    "\n",
    "plt.legend(loc=4)\n",
    "plt.title(\"Actual vs. Predict\", size=10)\n",
    "plt.scatter(y_test,predictions,color='c', marker='.')\n",
    "plt.xlabel(\"Actual\", size=10)\n",
    "plt.ylabel(\"Predict\", size=10)\n",
    "plt.show()\n"
   ]
  },
  {
   "cell_type": "code",
   "execution_count": 13,
   "metadata": {},
   "outputs": [
    {
     "data": {
      "image/png": "[encoded data removed]",
      "text/plain": [
       "<Figure size 432x288 with 1 Axes>"
      ]
     },
     "metadata": {
      "needs_background": "light"
     },
     "output_type": "display_data"
    }
   ],
   "source": [
    "plt.legend(loc=4)\n",
    "plt.title(\"Homogeneity of Variance\")\n",
    "plt.scatter(y_test,y_test-predictions)\n",
    "plt.xlabel(\"Actual\")\n",
    "plt.ylabel(\"Residual\")\n",
    "plt.show()\n",
    " "
   ]
  },
  {
   "cell_type": "code",
   "execution_count": null,
   "metadata": {},
   "outputs": [],
   "source": [
    "#Perform 10 fold Cross Validation (KFold)\n",
    "scores=cross_val_score(model,X,y,cv=10)\n",
    "print (\"Cross Validated Scores\",scores)\n",
    "kf=KFold(n_splits=10, random_state=None,shuffle=True)\n",
    "for train_index, test_index in kf.split(X):\n",
    "print (“TRAIN”, train_index, “TEST”, test_index)\n",
    " X_train,X_test=X[train_index], X[test_index]\n",
    " y_train,y_test=y[train_index],y[test_index]\n",
    " # Make Cross Validated predictions\n",
    " predictions2=cross_val_predict(model,X,y,cv=10)\n",
    " #Check the R2- the proportion of variance in the dependent variable explained by the predictors\n",
    " accuracy=metrics.r2_score(y,predictions2)\n",
    " print (“This is R2”,accuracy)\n",
    " plt.scatter(y,predictions2,color=’c’, marker=’.’)\n",
    " plt.legend(loc=4)\n",
    " plt.xlabel(“Actual NPP2001”, size=10)\n",
    " plt.ylabel(“NPP2001_Predict”, size=10)\n",
    " plt.title(“Actual and Predicted NPP2001 Values using 10 Fold Cross Validation”,size=10)\n",
    " plt.show()"
   ]
  },
  {
   "cell_type": "markdown",
   "metadata": {},
   "source": [
    "### svm example"
   ]
  },
  {
   "cell_type": "code",
   "execution_count": 23,
   "metadata": {},
   "outputs": [
    {
     "name": "stdout",
     "output_type": "stream",
     "text": [
      "('iris shape ', 5)\n",
      "12\n",
      "4\n",
      "6\n",
      "5\n",
      "13\n"
     ]
    },
    {
     "data": {
      "image/png": "[encoded data removed]",
      "text/plain": [
       "<Figure size 288x216 with 1 Axes>"
      ]
     },
     "metadata": {},
     "output_type": "display_data"
    }
   ],
   "source": [
    "# print(__doc__)\n",
    "\n",
    "# Code source: Gael Varoquaux\n",
    "# Modified for documentation by Jaques Grobler\n",
    "# License: BSD 3 clause\n",
    "\n",
    "import numpy as np\n",
    "#import matplotlib.pyplot as plt\n",
    "from sklearn import linear_model, datasets\n",
    "\n",
    "# import some data to play with\n",
    "iris = datasets.load_iris()\n",
    "print( \"iris shape \", len(iris)  )\n",
    "for i in iris:\n",
    "    print( len(i) )\n",
    "\n",
    "X = iris.data[:, :2]  # we only take the first two features.\n",
    "Y = iris.target\n",
    "\n",
    "h = .02  # step size in the mesh\n",
    "\n",
    "logreg = linear_model.LogisticRegression(C=1e5)\n",
    "\n",
    "# we create an instance of Neighbours Classifier and fit the data.\n",
    "logreg.fit(X, Y)\n",
    "\n",
    "# Plot the decision boundary. For that, we will assign a color to each\n",
    "# point in the mesh [x_min, x_max]x[y_min, y_max].\n",
    "x_min, x_max = X[:, 0].min() - .5, X[:, 0].max() + .5\n",
    "y_min, y_max = X[:, 1].min() - .5, X[:, 1].max() + .5\n",
    "xx, yy = np.meshgrid(np.arange(x_min, x_max, h), np.arange(y_min, y_max, h))\n",
    "Z = logreg.predict(np.c_[xx.ravel(), yy.ravel()])\n",
    "\n",
    "# Put the result into a color plot\n",
    "Z = Z.reshape(xx.shape)\n",
    "plt.figure(1, figsize=(4, 3))\n",
    "plt.pcolormesh(xx, yy, Z, cmap=plt.cm.Paired)\n",
    "\n",
    "# Plot also the training points\n",
    "plt.scatter(X[:, 0], X[:, 1], c=Y, edgecolors='k', cmap=plt.cm.Paired)\n",
    "plt.xlabel('Sepal length')\n",
    "plt.ylabel('Sepal width')\n",
    "\n",
    "plt.xlim(xx.min(), xx.max())\n",
    "plt.ylim(yy.min(), yy.max())\n",
    "plt.xticks(())\n",
    "plt.yticks(())\n",
    "\n",
    "plt.show()"
   ]
  },
  {
   "cell_type": "code",
   "execution_count": null,
   "metadata": {},
   "outputs": [],
   "source": []
  }
 ],
 "metadata": {
  "kernelspec": {
   "display_name": "Python 2",
   "language": "python",
   "name": "python2"
  },
  "language_info": {
   "codemirror_mode": {
    "name": "ipython",
    "version": 2
   },
   "file_extension": ".py",
   "mimetype": "text/x-python",
   "name": "python",
   "nbconvert_exporter": "python",
   "pygments_lexer": "ipython2",
   "version": "2.7.12"
  }
 },
 "nbformat": 4,
 "nbformat_minor": 2
}
